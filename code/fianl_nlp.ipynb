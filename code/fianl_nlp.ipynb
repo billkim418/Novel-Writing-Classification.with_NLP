{
 "cells": [
  {
   "cell_type": "raw",
   "metadata": {
    "colab": {
     "base_uri": "https://localhost:8080/"
    },
    "executionInfo": {
     "elapsed": 3651,
     "status": "ok",
     "timestamp": 1619161446241,
     "user": {
      "displayName": "곽희원",
      "photoUrl": "",
      "userId": "06356347371517984580"
     },
     "user_tz": -540
    },
    "id": "0LNsYEKEgqtn",
    "outputId": "20223387-4250-4749-f82c-49b04470e49d"
   },
   "source": [
    "#판다스\n",
    "import pandas as pd\n",
    "\n",
    "#넘파이\n",
    "import numpy as np\n",
    "\n",
    "#텐서플로우 + 토크나이즈\n",
    "import tensorflow as tf\n",
    "from keras.models import Sequential\n",
    "from tensorflow.keras.preprocessing.text import Tokenizer\n",
    "from tensorflow.keras.utils import plot_model, to_categorical\n",
    "from tensorflow.keras.preprocessing.sequence import pad_sequences\n",
    "from tensorflow.keras.callbacks import EarlyStopping, ReduceLROnPlateau\n",
    "from tensorflow.keras.layers import Dense, Embedding, LSTM, Flatten, Dropout, GRU\n",
    "\n",
    "#NLP에 필요한 데이터 샘플을 제공해주는 라이브러리(불용어, 토크나이즈)\n",
    "import nltk\n",
    "from nltk.corpus import stopwords\n",
    "from nltk.tokenize import word_tokenize\n",
    "from nltk.stem import WordNetLemmatizer,PorterStemmer\n",
    "\n",
    "#nltk.download()에는 다양한 매개변수가 있지만\n",
    "#샘플 용량이 커서 이번 NLP 전처리에서는 'stopwords'와 'punkt', 'wordnet'만을 활용.\n",
    "nltk.download('stopwords')\n",
    "nltk.download('punkt')\n",
    "nltk.download('wordnet')\n",
    "\n",
    "#Wordcloud\n",
    "from wordcloud import WordCloud, STOPWORDS\n",
    "\n",
    "#TF-IDF Vectorization 라이브러리\n",
    "from sklearn.feature_extraction.text import TfidfVectorizer\n",
    "\n",
    "#pyLDAvis를 통한 토픽 모델링 시각화\n",
    "\n",
    "#임베딩 Word2Vec + pyLDA\n",
    "import gensim\n",
    "import pyLDAvis\n",
    "from gensim.models import Word2Vec\n",
    "from gensim.models import KeyedVectors\n",
    "\n",
    "\n",
    "#시각화를 위한 라이브러리\n",
    "import matplotlib.pyplot as plt\n",
    "from collections import Counter\n",
    "\n",
    "#경고 메세지 필터\n",
    "import warnings \n",
    "warnings.filterwarnings(action='ignore')\n",
    "\n",
    "#부호 제거를 위한 re 패키지\n",
    "import re\n",
    "\n",
    "#진행 프로세스바로 표현해주는 모듈 \n",
    "from tqdm import tqdm"
   ]
  },
  {
   "cell_type": "code",
   "execution_count": 2,
   "metadata": {
    "id": "xl3WPrG9g6SM"
   },
   "outputs": [],
   "source": [
    "#파일사용을 용이하도록 os import\n",
    "import os\n",
    "\n",
    "#각자의 디렉토리 경로 설정\n",
    "os.chdir('C:\\\\Users\\\\billk')"
   ]
  },
  {
   "cell_type": "code",
   "execution_count": 3,
   "metadata": {
    "executionInfo": {
     "elapsed": 1131,
     "status": "ok",
     "timestamp": 1619161455355,
     "user": {
      "displayName": "곽희원",
      "photoUrl": "",
      "userId": "06356347371517984580"
     },
     "user_tz": -540
    },
    "id": "TGmYoAlkg8Ey"
   },
   "outputs": [],
   "source": [
    "#사용할 파일들 불러오기\n",
    "train = pd.read_csv('train.csv')\n",
    "test = pd.read_csv('test_x.csv')\n",
    "sample_submission = pd.read_csv('sample_submission.csv')"
   ]
  },
  {
   "cell_type": "code",
   "execution_count": 4,
   "metadata": {
    "colab": {
     "base_uri": "https://localhost:8080/"
    },
    "executionInfo": {
     "elapsed": 978,
     "status": "ok",
     "timestamp": 1619161483631,
     "user": {
      "displayName": "곽희원",
      "photoUrl": "",
      "userId": "06356347371517984580"
     },
     "user_tz": -540
    },
    "id": "Ejq1dRuUg_OF",
    "outputId": "d94afdca-da1b-4758-ec45-936916695fbb"
   },
   "outputs": [
    {
     "name": "stdout",
     "output_type": "stream",
     "text": [
      "       index                                               text  author\n",
      "0          0  He was almost choking. There was so much, so m...       3\n",
      "1          1             “Your sister asked for it, I suppose?”       2\n",
      "2          2   She was engaged one day as she walked, in per...       1\n",
      "3          3  The captain was in the porch, keeping himself ...       4\n",
      "4          4  “Have mercy, gentlemen!” odin flung up his han...       3\n",
      "...      ...                                                ...     ...\n",
      "54874  54874  “Is that you, Mr. Smith?” odin whispered. “I h...       2\n",
      "54875  54875  I told my plan to the captain, and between us ...       4\n",
      "54876  54876   \"Your sincere well-wisher, friend, and sister...       1\n",
      "54877  54877            “Then you wanted me to lend you money?”       3\n",
      "54878  54878  It certainly had not occurred to me before, bu...       0\n",
      "\n",
      "[54879 rows x 3 columns]\n"
     ]
    }
   ],
   "source": [
    "#학습을 위한 train 데이터 확인\n",
    "print(train)"
   ]
  },
  {
   "cell_type": "code",
   "execution_count": 5,
   "metadata": {
    "colab": {
     "base_uri": "https://localhost:8080/"
    },
    "executionInfo": {
     "elapsed": 883,
     "status": "ok",
     "timestamp": 1619161512656,
     "user": {
      "displayName": "곽희원",
      "photoUrl": "",
      "userId": "06356347371517984580"
     },
     "user_tz": -540
    },
    "id": "9ue160pKhCRE",
    "outputId": "e4d9dd0b-bd2f-4e52-f2cc-c9e914ff5fdb"
   },
   "outputs": [
    {
     "name": "stdout",
     "output_type": "stream",
     "text": [
      "       index                                               text\n",
      "0          0  “Not at all. I think she is one of the most ch...\n",
      "1          1  \"No,\" replied he, with sudden consciousness, \"...\n",
      "2          2  As the lady had stated her intention of scream...\n",
      "3          3  “And then suddenly in the silence I heard a so...\n",
      "4          4  His conviction remained unchanged. So far as I...\n",
      "...      ...                                                ...\n",
      "19612  19612  At the end of another day or two, odin growing...\n",
      "19613  19613  All afternoon we sat together, mostly in silen...\n",
      "19614  19614   odin, having carried his thanks to odin, proc...\n",
      "19615  19615  Soon after this, upon odin's leaving the room,...\n",
      "19616  19616  And all the worse for the doomed man, that the...\n",
      "\n",
      "[19617 rows x 2 columns]\n"
     ]
    }
   ],
   "source": [
    "#테스트를 위한 test 데이터 확인\n",
    "print(test)"
   ]
  },
  {
   "cell_type": "code",
   "execution_count": 6,
   "metadata": {
    "colab": {
     "base_uri": "https://localhost:8080/"
    },
    "executionInfo": {
     "elapsed": 828,
     "status": "ok",
     "timestamp": 1619161519063,
     "user": {
      "displayName": "곽희원",
      "photoUrl": "",
      "userId": "06356347371517984580"
     },
     "user_tz": -540
    },
    "id": "ESOmy52Vhobd",
    "outputId": "283796f2-3956-44b0-cdaf-0b2109713702"
   },
   "outputs": [
    {
     "name": "stdout",
     "output_type": "stream",
     "text": [
      "       index  0  1  2  3  4\n",
      "0          0  0  0  0  0  0\n",
      "1          1  0  0  0  0  0\n",
      "2          2  0  0  0  0  0\n",
      "3          3  0  0  0  0  0\n",
      "4          4  0  0  0  0  0\n",
      "...      ... .. .. .. .. ..\n",
      "19612  19612  0  0  0  0  0\n",
      "19613  19613  0  0  0  0  0\n",
      "19614  19614  0  0  0  0  0\n",
      "19615  19615  0  0  0  0  0\n",
      "19616  19616  0  0  0  0  0\n",
      "\n",
      "[19617 rows x 6 columns]\n"
     ]
    }
   ],
   "source": [
    "#sample_submission 데이터도 확인(일종의 답안지 인듯 하다.)\n",
    "print(sample_submission)"
   ]
  },
  {
   "cell_type": "code",
   "execution_count": 7,
   "metadata": {
    "colab": {
     "base_uri": "https://localhost:8080/",
     "height": 292
    },
    "executionInfo": {
     "elapsed": 1633,
     "status": "ok",
     "timestamp": 1619161455879,
     "user": {
      "displayName": "곽희원",
      "photoUrl": "",
      "userId": "06356347371517984580"
     },
     "user_tz": -540
    },
    "id": "U_B02lEHhpha",
    "outputId": "4774c4b9-fcdf-4c45-d4dc-9a1f63a044b3"
   },
   "outputs": [
    {
     "data": {
      "image/png": "[encoded data removed]",
      "text/plain": [
       "<Figure size 432x288 with 1 Axes>"
      ]
     },
     "metadata": {
      "needs_background": "light"
     },
     "output_type": "display_data"
    }
   ],
   "source": [
    "#작가별 Text 수 데이터 확인.\n",
    "train.groupby(train.author).size().reset_index(name=\"Texts\").plot.bar(\n",
    "    x='author', title=\"Sentences by Author(Train Data)\",color='green')\n",
    "plt.show()"
   ]
  },
  {
   "cell_type": "code",
   "execution_count": 8,
   "metadata": {
    "executionInfo": {
     "elapsed": 2036,
     "status": "ok",
     "timestamp": 1619161456289,
     "user": {
      "displayName": "곽희원",
      "photoUrl": "",
      "userId": "06356347371517984580"
     },
     "user_tz": -540
    },
    "id": "gax_eO3jhtiy"
   },
   "outputs": [],
   "source": [
    "#부호를 제거해주는 함수 생성\n",
    "def alpha_num(text):\n",
    "    #re 패키지 - 정규표현식 re.sub()은\n",
    "    #re.sub('패턴', '교체함수', '문자열', 바꿀횟수) \n",
    "    return re.sub(r'[^A-Za-z0-9 ]', '', text)\n",
    "\n",
    "#train 데이터프레임에서 text열을 \n",
    "#apply()는 사전에 생성한 함수를 적용할 때 사용한다.\n",
    "train['text'] = train['text'].apply(alpha_num)"
   ]
  },
  {
   "cell_type": "code",
   "execution_count": 9,
   "metadata": {
    "colab": {
     "base_uri": "https://localhost:8080/"
    },
    "executionInfo": {
     "elapsed": 806,
     "status": "ok",
     "timestamp": 1619161529149,
     "user": {
      "displayName": "곽희원",
      "photoUrl": "",
      "userId": "06356347371517984580"
     },
     "user_tz": -540
    },
    "id": "CLZxbFA6iL5W",
    "outputId": "5e9138ba-9b76-4ab7-a3d8-52463d54ae90"
   },
   "outputs": [
    {
     "name": "stdout",
     "output_type": "stream",
     "text": [
      "       index                                               text  author\n",
      "0          0  He was almost choking There was so much so muc...       3\n",
      "1          1                 Your sister asked for it I suppose       2\n",
      "2          2   She was engaged one day as she walked in peru...       1\n",
      "3          3  The captain was in the porch keeping himself c...       4\n",
      "4          4  Have mercy gentlemen odin flung up his hands D...       3\n",
      "...      ...                                                ...     ...\n",
      "54874  54874  Is that you Mr Smith odin whispered I hardly d...       2\n",
      "54875  54875  I told my plan to the captain and between us w...       4\n",
      "54876  54876   Your sincere wellwisher friend and sister LUC...       1\n",
      "54877  54877               Then you wanted me to lend you money       3\n",
      "54878  54878  It certainly had not occurred to me before but...       0\n",
      "\n",
      "[54879 rows x 3 columns]\n"
     ]
    }
   ],
   "source": [
    "#부호가 제거된 데이터를 확인\n",
    "print(train)"
   ]
  },
  {
   "cell_type": "code",
   "execution_count": 10,
   "metadata": {
    "executionInfo": {
     "elapsed": 796,
     "status": "ok",
     "timestamp": 1619161534358,
     "user": {
      "displayName": "곽희원",
      "photoUrl": "",
      "userId": "06356347371517984580"
     },
     "user_tz": -540
    },
    "id": "uxuCp_-Cib9C"
   },
   "outputs": [],
   "source": [
    "#nltk 라이브러리에서 제공하는 불용어 샘플을 변수에 저장\n",
    "stopW = set(stopwords.words('english'))"
   ]
  },
  {
   "cell_type": "code",
   "execution_count": 11,
   "metadata": {
    "executionInfo": {
     "elapsed": 1113,
     "status": "ok",
     "timestamp": 1619161556151,
     "user": {
      "displayName": "곽희원",
      "photoUrl": "",
      "userId": "06356347371517984580"
     },
     "user_tz": -540
    },
    "id": "ccrbxN5OjJaL"
   },
   "outputs": [],
   "source": [
    "#불용어를 제거해주는 함수 생성\n",
    "def remove_stopwords(text):\n",
    "    \n",
    "    #최종 텍스트들을 저장할 배열 생성\n",
    "    final_text = []\n",
    "\n",
    "    #text을 split()하여 i로 보내고\n",
    "    for i in text.split():\n",
    "        #불용어 데이터와 겹치지 않는 데이터의 공백을 없애고 소문자로 변환하고\n",
    "        if i.strip().lower() not in stopW:\n",
    "            #final_text 배열에 저장. 이때도 공백제거\n",
    "            final_text.append(i.strip())\n",
    "    \n",
    "    #\" \"문자열의 문자와 문자 사이에 삽입하는 join 메소드\n",
    "    return \" \".join(final_text)"
   ]
  },
  {
   "cell_type": "code",
   "execution_count": 12,
   "metadata": {
    "colab": {
     "base_uri": "https://localhost:8080/",
     "height": 346
    },
    "executionInfo": {
     "elapsed": 3153,
     "status": "ok",
     "timestamp": 1619161572219,
     "user": {
      "displayName": "곽희원",
      "photoUrl": "",
      "userId": "06356347371517984580"
     },
     "user_tz": -540
    },
    "id": "pbybXxMkjKtL",
    "outputId": "5af79212-25f7-4411-f162-23073937467c"
   },
   "outputs": [
    {
     "data": {
      "image/png": "[encoded data removed]",
      "text/plain": [
       "<Figure size 1440x720 with 5 Axes>"
      ]
     },
     "metadata": {
      "needs_background": "light"
     },
     "output_type": "display_data"
    }
   ],
   "source": [
    "#작가별 불용어 분포(Top 10)\n",
    "\n",
    "fig = plt.figure(figsize=(20,10))\n",
    "rows = 2\n",
    "cols = 3\n",
    "i = 1\n",
    "\n",
    "def plot_top_stopwords_barchart(text):\n",
    "    stop=set(stopwords.words('english'))\n",
    "    \n",
    "    new= text.str.split()\n",
    "    new=new.values.tolist()\n",
    "    corpus=[word for i in new for word in i]\n",
    "    from collections import defaultdict\n",
    "    dic=defaultdict(int)\n",
    "\n",
    "    for word in corpus:\n",
    "        if word in stop:\n",
    "            dic[word]+=1\n",
    "            \n",
    "    top=sorted(dic.items(), key=lambda x:x[1],reverse=True)[:10] \n",
    "    x,y=zip(*top)\n",
    "    return x, y\n",
    "\n",
    "ax = fig.add_subplot(rows, cols, i+1)\n",
    "ax.set_title('Top 10 stopwords')\n",
    "\n",
    "for i in range(5):\n",
    "    x,y = plot_top_stopwords_barchart(train[train['author']==i]['text'])\n",
    "    ax = fig.add_subplot(rows, cols, i+1)\n",
    "    ax.set_xlabel('Author [{}]'.format(i))\n",
    "    ax.set_ylabel('Counts')\n",
    "    ax.bar(x,y)"
   ]
  },
  {
   "cell_type": "code",
   "execution_count": 13,
   "metadata": {
    "colab": {
     "base_uri": "https://localhost:8080/"
    },
    "executionInfo": {
     "elapsed": 2618,
     "status": "ok",
     "timestamp": 1619161586048,
     "user": {
      "displayName": "곽희원",
      "photoUrl": "",
      "userId": "06356347371517984580"
     },
     "user_tz": -540
    },
    "id": "roSX2jXvjNbb",
    "outputId": "57e54f54-ea85-4b0e-83ba-3db9cc000e6a"
   },
   "outputs": [
    {
     "name": "stdout",
     "output_type": "stream",
     "text": [
      "0        he was almost choking there was so much so muc...\n",
      "1                       your sister asked for it i suppose\n",
      "2         she was engaged one day as she walked in peru...\n",
      "3        the captain was in the porch keeping himself c...\n",
      "4        have mercy gentlemen odin flung up his hands d...\n",
      "                               ...                        \n",
      "54874    is that you mr smith odin whispered i hardly d...\n",
      "54875    i told my plan to the captain and between us w...\n",
      "54876     your sincere wellwisher friend and sister luc...\n",
      "54877                 then you wanted me to lend you money\n",
      "54878    it certainly had not occurred to me before but...\n",
      "Name: text, Length: 54879, dtype: object\n",
      "0        “not at all. i think she is one of the most ch...\n",
      "1        \"no,\" replied he, with sudden consciousness, \"...\n",
      "2        as the lady had stated her intention of scream...\n",
      "3        “and then suddenly in the silence i heard a so...\n",
      "4        his conviction remained unchanged. so far as i...\n",
      "                               ...                        \n",
      "19612    at the end of another day or two, odin growing...\n",
      "19613    all afternoon we sat together, mostly in silen...\n",
      "19614     odin, having carried his thanks to odin, proc...\n",
      "19615    soon after this, upon odin's leaving the room,...\n",
      "19616    and all the worse for the doomed man, that the...\n",
      "Name: text, Length: 19617, dtype: object\n"
     ]
    }
   ],
   "source": [
    "#모든 데이터에 전처리 적용\n",
    "\n",
    "#train, test 데이터프레임에서 text열을 영문 소문자로 변환해서 새로 저장\n",
    "train['text'] = train['text'].str.lower()\n",
    "test['text'] = test['text'].str.lower()\n",
    "\n",
    "#변환된 데이터 확인\n",
    "print(train['text'])\n",
    "print(test['text'])\n",
    "\n",
    "#apply()는 사전에 생성한 함수를 적용할 때 사용한다.\n",
    "#동일한 환경을 만들어주어야 비교가 가능하기 때문에 조건을 맞춰준다.\n",
    "train['text'] = train['text'].apply(alpha_num).apply(remove_stopwords)\n",
    "test['text'] = test['text'].apply(alpha_num).apply(remove_stopwords)"
   ]
  },
  {
   "cell_type": "code",
   "execution_count": 14,
   "metadata": {
    "executionInfo": {
     "elapsed": 825,
     "status": "ok",
     "timestamp": 1619161632711,
     "user": {
      "displayName": "곽희원",
      "photoUrl": "",
      "userId": "06356347371517984580"
     },
     "user_tz": -540
    },
    "id": "mHtzlVVJjQ7w"
   },
   "outputs": [],
   "source": [
    "#pyLDAvis를 통한 토픽 모델링 시각화\n",
    "\n",
    "NUM_TOPICS = 5\n",
    "\n",
    "def get_lda_objects(text):\n",
    "    nltk.download('stopwords')    \n",
    "    stop=set(stopwords.words('english'))\n",
    "\n",
    "    \n",
    "    def _preprocess_text(text):\n",
    "        corpus=[]\n",
    "        stem=PorterStemmer()\n",
    "        lem=WordNetLemmatizer()\n",
    "        for news in text:\n",
    "            words=[w for w in word_tokenize(news) if (w not in stop)]\n",
    "\n",
    "            words=[lem.lemmatize(w) for w in words if len(w)>2]\n",
    "\n",
    "            corpus.append(words)\n",
    "        return corpus\n",
    "    \n",
    "    corpus=_preprocess_text(text)\n",
    "    \n",
    "    dic=gensim.corpora.Dictionary(corpus)\n",
    "    bow_corpus = [dic.doc2bow(doc) for doc in corpus]\n",
    "    \n",
    "    lda_model =  gensim.models.LdaMulticore(bow_corpus, \n",
    "                                   num_topics = NUM_TOPICS, \n",
    "                                   id2word = dic,                                    \n",
    "                                   passes = 10,\n",
    "                                   workers = 2)\n",
    "    \n",
    "    return lda_model, bow_corpus, dic\n",
    "\n",
    "def plot_lda_vis(lda_model, bow_corpus, dic):\n",
    "    pyLDAvis.enable_notebook()\n",
    "    vis = pyLDAvis.(lda_model, bow_corpus, dic)\n",
    "    return vis"
   ]
  },
  {
   "cell_type": "code",
   "execution_count": 15,
   "metadata": {
    "colab": {
     "base_uri": "https://localhost:8080/"
    },
    "executionInfo": {
     "elapsed": 316508,
     "status": "ok",
     "timestamp": 1619161968062,
     "user": {
      "displayName": "곽희원",
      "photoUrl": "",
      "userId": "06356347371517984580"
     },
     "user_tz": -540
    },
    "id": "jeNPFVXQjeJ9",
    "outputId": "da7c12c0-aa57-46e6-ff11-afddc0b0835a"
   },
   "outputs": [
    {
     "name": "stderr",
     "output_type": "stream",
     "text": [
      "[nltk_data] Downloading package stopwords to\n",
      "[nltk_data]     C:\\Users\\billk\\AppData\\Roaming\\nltk_data...\n",
      "[nltk_data]   Package stopwords is already up-to-date!\n"
     ]
    }
   ],
   "source": [
    "lda_model, bow_corpus, dic = get_lda_objects(train['text'])"
   ]
  },
  {
   "cell_type": "code",
   "execution_count": 16,
   "metadata": {
    "colab": {
     "base_uri": "https://localhost:8080/",
     "height": 310
    },
    "executionInfo": {
     "elapsed": 922,
     "status": "error",
     "timestamp": 1619162047764,
     "user": {
      "displayName": "곽희원",
      "photoUrl": "",
      "userId": "06356347371517984580"
     },
     "user_tz": -540
    },
    "id": "MB6lWQUEjoxD",
    "outputId": "662140e9-28bd-40a5-e6b8-3eebe2c70505"
   },
   "outputs": [
    {
     "ename": "AttributeError",
     "evalue": "module 'pyLDAvis' has no attribute 'gensim_models'",
     "output_type": "error",
     "traceback": [
      "\u001b[1;31m---------------------------------------------------------------------------\u001b[0m",
      "\u001b[1;31mAttributeError\u001b[0m                            Traceback (most recent call last)",
      "\u001b[1;32m<ipython-input-16-8430a17a0d78>\u001b[0m in \u001b[0;36m<module>\u001b[1;34m\u001b[0m\n\u001b[0;32m      1\u001b[0m \u001b[1;31m#train 데이터 토픽 모델링\u001b[0m\u001b[1;33m\u001b[0m\u001b[1;33m\u001b[0m\u001b[1;33m\u001b[0m\u001b[0m\n\u001b[1;32m----> 2\u001b[1;33m \u001b[0mplot_lda_vis\u001b[0m\u001b[1;33m(\u001b[0m\u001b[0mlda_model\u001b[0m\u001b[1;33m,\u001b[0m \u001b[0mbow_corpus\u001b[0m\u001b[1;33m,\u001b[0m \u001b[0mdic\u001b[0m\u001b[1;33m)\u001b[0m\u001b[1;33m\u001b[0m\u001b[1;33m\u001b[0m\u001b[0m\n\u001b[0m",
      "\u001b[1;32m<ipython-input-14-7a01baa71319>\u001b[0m in \u001b[0;36mplot_lda_vis\u001b[1;34m(lda_model, bow_corpus, dic)\u001b[0m\n\u001b[0;32m     35\u001b[0m \u001b[1;32mdef\u001b[0m \u001b[0mplot_lda_vis\u001b[0m\u001b[1;33m(\u001b[0m\u001b[0mlda_model\u001b[0m\u001b[1;33m,\u001b[0m \u001b[0mbow_corpus\u001b[0m\u001b[1;33m,\u001b[0m \u001b[0mdic\u001b[0m\u001b[1;33m)\u001b[0m\u001b[1;33m:\u001b[0m\u001b[1;33m\u001b[0m\u001b[1;33m\u001b[0m\u001b[0m\n\u001b[0;32m     36\u001b[0m     \u001b[0mpyLDAvis\u001b[0m\u001b[1;33m.\u001b[0m\u001b[0menable_notebook\u001b[0m\u001b[1;33m(\u001b[0m\u001b[1;33m)\u001b[0m\u001b[1;33m\u001b[0m\u001b[1;33m\u001b[0m\u001b[0m\n\u001b[1;32m---> 37\u001b[1;33m     \u001b[0mvis\u001b[0m \u001b[1;33m=\u001b[0m \u001b[0mpyLDAvis\u001b[0m\u001b[1;33m.\u001b[0m\u001b[0mgensim_models\u001b[0m\u001b[1;33m.\u001b[0m\u001b[0mprepare\u001b[0m\u001b[1;33m(\u001b[0m\u001b[0mlda_model\u001b[0m\u001b[1;33m,\u001b[0m \u001b[0mbow_corpus\u001b[0m\u001b[1;33m,\u001b[0m \u001b[0mdic\u001b[0m\u001b[1;33m)\u001b[0m\u001b[1;33m\u001b[0m\u001b[1;33m\u001b[0m\u001b[0m\n\u001b[0m\u001b[0;32m     38\u001b[0m     \u001b[1;32mreturn\u001b[0m \u001b[0mvis\u001b[0m\u001b[1;33m\u001b[0m\u001b[1;33m\u001b[0m\u001b[0m\n",
      "\u001b[1;31mAttributeError\u001b[0m: module 'pyLDAvis' has no attribute 'gensim_models'"
     ]
    }
   ],
   "source": [
    "#train 데이터 토픽 모델링\n",
    "plot_lda_vis(lda_model, bow_corpus, dic)"
   ]
  },
  {
   "cell_type": "code",
   "execution_count": null,
   "metadata": {
    "id": "oVUK7Pq5ju09"
   },
   "outputs": [],
   "source": [
    "lda_model, bow_corpus, dic = get_lda_objects(test['text'])"
   ]
  },
  {
   "cell_type": "code",
   "execution_count": null,
   "metadata": {
    "id": "6iJmcHuIjvTR"
   },
   "outputs": [],
   "source": [
    "#test 데이터 토픽 모델링\n",
    "plot_lda_vis(lda_model, bow_corpus, dic)"
   ]
  },
  {
   "cell_type": "code",
   "execution_count": null,
   "metadata": {
    "id": "kW9l3FGwj1ho"
   },
   "outputs": [],
   "source": [
    "#wordcloud 시각화를 위한 함수 생성\n",
    "def plot_wordcloud(text):\n",
    "    \n",
    "    def _preprocess_text(text):\n",
    "        corpus=[]\n",
    "        stem=PorterStemmer()\n",
    "        lem=WordNetLemmatizer()\n",
    "        for news in text:\n",
    "            words=[w for w in word_tokenize(news) if (w not in stopW)]\n",
    "\n",
    "            words=[lem.lemmatize(w) for w in words if len(w)>2]\n",
    "\n",
    "            corpus.append(words)\n",
    "        return corpus\n",
    "    \n",
    "    corpus=_preprocess_text(text)\n",
    "    \n",
    "    wordcloud = WordCloud(\n",
    "        background_color='white',\n",
    "        stopwords=set(STOPWORDS),\n",
    "        max_words=100,\n",
    "        max_font_size=30, \n",
    "        scale=3,\n",
    "        random_state=1)\n",
    "    \n",
    "    wordcloud = wordcloud.generate(str(corpus))\n",
    "    \n",
    "    return wordcloud"
   ]
  },
  {
   "cell_type": "code",
   "execution_count": null,
   "metadata": {
    "id": "0KihvpPwj4yV"
   },
   "outputs": [],
   "source": [
    "fig = plt.figure(figsize=(20,20))\n",
    "rows = 3\n",
    "cols = 2\n",
    "\n",
    "for i in range(5):\n",
    "    wordcloud = plot_wordcloud(train[train['author']==i]['text'])\n",
    "    ax = fig.add_subplot(rows, cols, i+1)\n",
    "    \n",
    "    ax.axis('off')\n",
    "    ax.set_title('Wordcloud by author [{}]'.format(i))\n",
    "    ax.imshow(wordcloud)"
   ]
  },
  {
   "cell_type": "code",
   "execution_count": null,
   "metadata": {
    "id": "H5tma0_2j7Eb"
   },
   "outputs": [],
   "source": [
    "#train과 test 분리해서 np.array() 리스트에 저장\n",
    "#리스트 컴프레이션을 사용해 변수에 저장\n",
    "X_train = np.array([x for x in train['text']])\n",
    "X_test = np.array([x for x in test['text']])\n",
    "\n",
    "#y_train 값도 따로 변수에 저장\n",
    "y_train = np.array([x for x in train['author']])"
   ]
  },
  {
   "cell_type": "code",
   "execution_count": null,
   "metadata": {
    "id": "Nfy0VAQQj9Pr"
   },
   "outputs": [],
   "source": [
    "#분리된 X_train 데이터 확인\n",
    "print(X_train)"
   ]
  },
  {
   "cell_type": "code",
   "execution_count": null,
   "metadata": {
    "id": "rYFEV1MBkBj-"
   },
   "outputs": [],
   "source": [
    "#분리된 X_test 데이터 확인\n",
    "print(X_test)"
   ]
  },
  {
   "cell_type": "code",
   "execution_count": null,
   "metadata": {
    "id": "HRclWdwSkDRT"
   },
   "outputs": [],
   "source": [
    "#분리된 y_train 데이터 확인\n",
    "print(y_train)"
   ]
  },
  {
   "cell_type": "code",
   "execution_count": null,
   "metadata": {
    "id": "j4zjr3uPkHnY"
   },
   "outputs": [],
   "source": [
    "tmp = train"
   ]
  },
  {
   "cell_type": "code",
   "execution_count": null,
   "metadata": {
    "id": "C4Jvr5c6kLkL"
   },
   "outputs": [],
   "source": [
    "for i in range(len(tmp['text'])):\n",
    "    tmp['text'][i] = tmp['text'][i].strip().split()\n",
    "\n",
    "vocab = nltk.FreqDist(np.hstack(tmp['text']))\n",
    "print('단어 집합의 크기 : {}'.format(len(vocab)))"
   ]
  },
  {
   "cell_type": "code",
   "execution_count": null,
   "metadata": {
    "id": "xBzR5VqykM5a"
   },
   "outputs": [],
   "source": [
    "#vocab 안에 있는 단어의 개수 파악\n",
    "vocab"
   ]
  },
  {
   "cell_type": "code",
   "execution_count": null,
   "metadata": {
    "id": "-MtseOLDkOJw"
   },
   "outputs": [],
   "source": [
    "vocab_size = len(vocab)\n",
    "# 상위 vocab_size개의 단어만 보존\n",
    "vocab = vocab.most_common(vocab_size)\n",
    "\n",
    "print('단어 집합의 크기 : {}'.format(len(vocab)))"
   ]
  },
  {
   "cell_type": "code",
   "execution_count": null,
   "metadata": {
    "id": "SASp4phekQnA"
   },
   "outputs": [],
   "source": [
    "word_to_index = {word[0] : index + 2 for index, word in enumerate(vocab)}\n",
    "word_to_index['unk'] = 0"
   ]
  },
  {
   "cell_type": "code",
   "execution_count": null,
   "metadata": {
    "id": "A0JzZdTMkRyS"
   },
   "outputs": [],
   "source": [
    "encoded = []\n",
    "for line in train['text']: #입력 데이터에서 1줄씩 문장을 읽음\n",
    "    temp = []\n",
    "    for w in line: #각 줄에서 1개씩 글자를 읽음\n",
    "        try:\n",
    "            temp.append(word_to_index[w]) # 글자를 해당되는 정수로 변환\n",
    "        except KeyError: # 단어 집합에 없는 단어일 경우 unk로 대체된다.\n",
    "            temp.append(word_to_index['unk']) # unk의 인덱스로 변환\n",
    "\n",
    "    encoded.append(temp)"
   ]
  },
  {
   "cell_type": "code",
   "execution_count": null,
   "metadata": {
    "id": "yPVpp3oxkTVN"
   },
   "outputs": [],
   "source": [
    "for i in encoded:\n",
    "    print(i)"
   ]
  },
  {
   "cell_type": "code",
   "execution_count": null,
   "metadata": {
    "id": "riv5iW1fkUnO"
   },
   "outputs": [],
   "source": [
    "max_len = max(len(l) for l in encoded)\n",
    "print('문장의 최대 길이 : %d' % max_len)\n",
    "print('문장의 최소 길이 : %d' % min(len(l) for l in encoded))\n",
    "print('문장의 평균 길이 : %f' % (sum(map(len, encoded))/len(encoded)))\n",
    "\n",
    "plt.hist([len(s) for s in encoded], bins=50)\n",
    "plt.xlabel('length of sample')\n",
    "plt.ylabel('number of sample')\n",
    "plt.show()"
   ]
  },
  {
   "cell_type": "code",
   "execution_count": null,
   "metadata": {
    "id": "r0Ygtb-rkaG9"
   },
   "outputs": [],
   "source": [
    "#소설작가분류를 원-핫 인코딩을 통해 진행\n",
    "max_words = 54879 \n",
    "tokenizer = Tokenizer(num_words=max_words)\n",
    "tokenizer.fit_on_texts(X_train)\n",
    "print(tokenizer.word_index)\n",
    "\n",
    "y_train=[]\n",
    "labels = list(train['author'])\n",
    "\n",
    "#tf.keras.utils.to_categorical()을 사용하면 직접 원-핫 인코딩을 할 필요 없다.\n",
    "y_train = tf.keras.utils.to_categorical(labels)"
   ]
  },
  {
   "cell_type": "code",
   "execution_count": null,
   "metadata": {
    "id": "nKF7lJl3kc10"
   },
   "outputs": [],
   "source": [
    "vectorizer = TfidfVectorizer()\n",
    "vectors = vectorizer.fit_transform(X_train) #여러 개의 문장을 넣어줘야 작동합니다!!\n",
    "\n",
    "print(vectorizer.get_feature_names())\n",
    "print(vectors.toarray())"
   ]
  },
  {
   "cell_type": "code",
   "execution_count": null,
   "metadata": {
    "id": "euJAwuimkegF"
   },
   "outputs": [],
   "source": [
    "#파라미터 설정\n",
    "\n",
    "#tokenizer에 사용할 단어의 최대 개수.\n",
    "#즉, 빈도수로 정렬하여 20000번째 단어 부터는 패딩값과 같은 0 반환\n",
    "vocab_size = 47120\n",
    "\n",
    "#각 단어들이 임베딩되어 컴퓨터가 이해할 수 있는 형태로 나왔을 때의 벡터 길이\n",
    "embedding_dim = 16\n",
    "\n",
    "#단어 시퀀스 벡터 크기.\n",
    "max_length = 212\n",
    "\n",
    "#padding_type은 post의 경우 뒤의 자리를 채워주고 pre의 경우 앞을 채워준다.\n",
    "#ex) post = [1, 0, 0, 0], pre = [0, 0, 0, 1]\n",
    "padding_type = 'post'"
   ]
  },
  {
   "cell_type": "code",
   "execution_count": null,
   "metadata": {
    "id": "W4fUdT-skg_S"
   },
   "outputs": [],
   "source": [
    "#tokenizer에 fit\n",
    "tokenizer = Tokenizer(num_words = vocab_size)\n",
    "tokenizer.fit_on_texts(X_train)\n",
    "word_index = tokenizer.word_index"
   ]
  },
  {
   "cell_type": "code",
   "execution_count": null,
   "metadata": {
    "id": "w9571Y6nkie5"
   },
   "outputs": [],
   "source": [
    "#데이터를 sequence로 변환해주고 padding 해줍니다.\n",
    "train_sequences = tokenizer.texts_to_sequences(X_train)\n",
    "\n",
    "# train_sequences\n",
    "train_padded = pad_sequences(train_sequences, padding=padding_type, maxlen=max_length)\n",
    "\n",
    "# train_padded\n",
    "test_sequences = tokenizer.texts_to_sequences(X_test)\n",
    "test_padded = pad_sequences(test_sequences, padding=padding_type, maxlen=max_length)"
   ]
  },
  {
   "cell_type": "code",
   "execution_count": null,
   "metadata": {
    "id": "_lH762UDknwy"
   },
   "outputs": [],
   "source": [
    "#가벼운 NLP모델 생성\n",
    "word2vec_model = gensim.models.KeyedVectors.load_word2vec_format(\n",
    "\t\t'GoogleNews-vectors-negative300.bin.gz', binary=True)\n",
    "embedding_matrix = np.zeros((vocab_size, 300))\n",
    "def get_vector(word):\n",
    "    if word in word2vec_model:\n",
    "        return word2vec_model[word]\n",
    "    else:\n",
    "        return None\n",
    "\n",
    "vocab = nltk.FreqDist(np.hstack(train['text']))"
   ]
  },
  {
   "cell_type": "code",
   "execution_count": null,
   "metadata": {
    "id": "3VbkwGfQkpr2"
   },
   "outputs": [],
   "source": [
    "#train['text']의 구성요소(각각의 문장)들의 단어 빈도수가 표현되어 있는\n",
    "#vocab(<class 'nltk.probability.FreqDist'>)을 get_vector()에 넣으면\n",
    "#입력된 값들 중 word2vec_model에 있는 단어만 출력하여 temp변수에 넣어준다\n",
    "for idx,word in enumerate(vocab.items()):\n",
    "    print(word[0])\n",
    "    temp = get_vector(word[0])\n",
    "    \n",
    "    if temp is not None: \n",
    "        embedding_matrix[idx] = temp\n",
    "\n",
    "print(embedding_matrix.shape)"
   ]
  },
  {
   "cell_type": "code",
   "execution_count": null,
   "metadata": {
    "id": "B51YYnVVksBW"
   },
   "outputs": [],
   "source": [
    "#vocabulary에 있는 토큰들을 하나씩 넘겨줍니다.\n",
    "for index, word in enumerate(vocab.items()):\n",
    "\n",
    "    #넘겨 받은 토큰이 word2vec에 존재하면(이미 훈련이 된 토큰이라는 뜻)\n",
    "\t\tif word in word2vec_model:\n",
    "\t\t\t\t#해당 토큰에 해당하는 vector를 불러오기\n",
    "        embedding_vector = word2vec_model[word]\n",
    "        embedding_mxtrix[index] = embedding_vector"
   ]
  },
  {
   "cell_type": "code",
   "execution_count": null,
   "metadata": {
    "id": "3IT33TL2kt09"
   },
   "outputs": [],
   "source": [
    "print(embedding_matrix)"
   ]
  },
  {
   "cell_type": "code",
   "execution_count": null,
   "metadata": {
    "id": "7wTB5CSBkxef"
   },
   "outputs": [],
   "source": [
    "vocab = nltk.FreqDist(np.hstack(train['text']))\n",
    "\n",
    "glove = dict()\n",
    "f = open('glove.txt',encoding='UTF8')\n",
    "for line in f:\n",
    "    values = line.split()\n",
    "    word = values[0]\n",
    "    vector = np.asarray(values[1:], dtype='float32')\n",
    "    glove[word] = vector\n",
    "\n",
    "f.close()"
   ]
  },
  {
   "cell_type": "code",
   "execution_count": null,
   "metadata": {
    "id": "IieZEYwykzne"
   },
   "outputs": [],
   "source": [
    "embedding_matrix = np.zeros((len(vocab), 100))"
   ]
  },
  {
   "cell_type": "code",
   "execution_count": null,
   "metadata": {
    "id": "6BmeKqsuk083"
   },
   "outputs": [],
   "source": [
    "for index, word in enumerate(vocab.items()):\n",
    "    if word[0] in glove:\n",
    "        embedding_vector = glove[word[0]]\n",
    "        embedding_matrix[index] = embedding_vector"
   ]
  },
  {
   "cell_type": "code",
   "execution_count": null,
   "metadata": {
    "id": "vz52NHfVk2q1"
   },
   "outputs": [],
   "source": [
    "print(embedding_matrix)"
   ]
  },
  {
   "cell_type": "code",
   "execution_count": null,
   "metadata": {
    "id": "WMKyf4QIk41h"
   },
   "outputs": [],
   "source": [
    "model = tf.keras.Sequential([\n",
    "    tf.keras.layers.Embedding(vocab_size, 300, weights=[embedding_matrix], input_length=max_length),\n",
    "    tf.keras.layers.Bidirectional(LSTM(10, return_sequences=False)),\n",
    "    tf.keras.layers.Dense(24, activation='relu'),\n",
    "\n",
    "\t\t#5중 분류이므로 출력값 유닛을 5로 맞추어 준다.\n",
    "    tf.keras.layers.Dense(5, activation='softmax')\n",
    "])"
   ]
  },
  {
   "cell_type": "code",
   "execution_count": null,
   "metadata": {
    "id": "FYX193b6k7VH"
   },
   "outputs": [],
   "source": [
    "# compile model\n",
    "model.compile(loss='sparse_categorical_crossentropy',\n",
    "              optimizer='adam',\n",
    "              metrics=['accuracy'])\n",
    "\n",
    "# model summary\n",
    "print(model.summary())"
   ]
  },
  {
   "cell_type": "code",
   "execution_count": null,
   "metadata": {
    "id": "xRHjWaP6k8uL"
   },
   "outputs": [],
   "source": [
    "print(train_padded)"
   ]
  },
  {
   "cell_type": "code",
   "execution_count": null,
   "metadata": {
    "id": "YpwlNYAxlAHk"
   },
   "outputs": [],
   "source": [
    "# fit model\n",
    "num_epochs = 20\n",
    "es = EarlyStopping(monitor='val_loss', min_delta=0.001, patience=3, \n",
    "\t\t\t\t\t\t\t\t\t verbose=1, mode='min', baseline=None, restore_best_weights=True)\n",
    "\n",
    "history = model.fit(train_padded, y_train, \n",
    "                    epochs=num_epochs, verbose=2, \n",
    "                    validation_split=0.2, callbacks = [es])"
   ]
  },
  {
   "cell_type": "code",
   "execution_count": null,
   "metadata": {
    "id": "d9vDlAwRl-rt"
   },
   "outputs": [],
   "source": [
    "#에포크에 따른 loss와 accuracy 변화 그래프\n",
    "def plot_model_perfomance(history,name):\n",
    "    plt.style.use('fivethirtyeight')\n",
    "    plt.figure(1)\n",
    "\n",
    "    plt.plot(history.history['loss'], lw=2.0, color='b', label='train')\n",
    "    plt.plot(history.history['val_loss'], lw=2.0, color='r', label='val')\n",
    "    plt.title(name)\n",
    "    plt.xlabel('Epochs')\n",
    "    plt.ylabel('Loss')\n",
    "    plt.legend(loc='upper right')\n",
    "    plt.figure(2)\n",
    "\n",
    "    plt.plot(history.history['accuracy'], lw=2.0, color='b', label='train')\n",
    "    plt.plot(history.history['val_accuracy'], lw=2.0, color='r', label='val')\n",
    "    plt.title(name)\n",
    "    plt.xlabel('Epochs')\n",
    "    plt.ylabel('Accuracy')\n",
    "    plt.legend(loc='upper left')\n",
    "    plt.show()"
   ]
  },
  {
   "cell_type": "code",
   "execution_count": null,
   "metadata": {
    "id": "hG-8oKXNmBM6"
   },
   "outputs": [],
   "source": [
    "plot_model_perfomance(history,'Word2Vec + BiLSTM')"
   ]
  },
  {
   "cell_type": "code",
   "execution_count": null,
   "metadata": {
    "id": "lqstTvtAmCZt"
   },
   "outputs": [],
   "source": [
    "# predict values\n",
    "pred = model.predict_proba(test_padded)"
   ]
  },
  {
   "cell_type": "code",
   "execution_count": null,
   "metadata": {
    "id": "s2SUcfj2mtry"
   },
   "outputs": [],
   "source": [
    "print(pred)"
   ]
  },
  {
   "cell_type": "code",
   "execution_count": null,
   "metadata": {
    "id": "bD4asYpYmx8A"
   },
   "outputs": [],
   "source": [
    "# submission(더미)\n",
    "sample_submission[['0','1','2','3','4']] = pred\n",
    "sample_submission"
   ]
  },
  {
   "cell_type": "code",
   "execution_count": null,
   "metadata": {
    "id": "BCVImiWbmzIm"
   },
   "outputs": [],
   "source": [
    "#결과 csv 파일로 저장\n",
    "sample_submission.to_csv('submission.csv', index = False)"
   ]
  },
  {
   "cell_type": "code",
   "execution_count": null,
   "metadata": {
    "id": "5Z3S3cYJm0nu"
   },
   "outputs": [],
   "source": [
    "model = tf.keras.Sequential([\n",
    "    tf.keras.layers.Embedding(vocab_size, 100, weights=[embedding_matrix], input_length=max_length),\n",
    "    tf.keras.layers.Bidirectional(LSTM(10, return_sequences=False)),\n",
    "    tf.keras.layers.Dense(24, activation='relu'),\n",
    "\n",
    "\t\t#5중 분류이므로 출력값 유닛을 5로 맞추어 준다.\n",
    "    tf.keras.layers.Dense(5, activation='softmax')\n",
    "])"
   ]
  },
  {
   "cell_type": "code",
   "execution_count": null,
   "metadata": {
    "id": "qHMvesdhm3Sh"
   },
   "outputs": [],
   "source": [
    "# compile model\n",
    "model.compile(loss='sparse_categorical_crossentropy',\n",
    "              optimizer='adam',\n",
    "              metrics=['accuracy'])\n",
    "\n",
    "# model summary\n",
    "print(model.summary())"
   ]
  },
  {
   "cell_type": "code",
   "execution_count": null,
   "metadata": {
    "id": "HwRzOKxrm44m"
   },
   "outputs": [],
   "source": [
    "print(train_padded)"
   ]
  },
  {
   "cell_type": "code",
   "execution_count": null,
   "metadata": {
    "id": "4RjOGUwrm59W"
   },
   "outputs": [],
   "source": [
    "# fit model\n",
    "num_epochs = 20\n",
    "es = EarlyStopping(monitor='val_loss', min_delta=0.001, patience=3, \n",
    "\t\t\t\t\t\t\t\t\t verbose=1, mode='min', baseline=None, restore_best_weights=True)\n",
    "\n",
    "history = model.fit(train_padded, y_train, \n",
    "                    epochs=num_epochs, verbose=2, \n",
    "                    validation_split=0.2, callbacks = [es])"
   ]
  },
  {
   "cell_type": "code",
   "execution_count": null,
   "metadata": {
    "id": "ZJt0grchm78l"
   },
   "outputs": [],
   "source": [
    "#에포크에 따른 loss와 accuracy 변화 그래프\n",
    "def plot_model_perfomance(history,name):\n",
    "    plt.style.use('fivethirtyeight')\n",
    "    plt.figure(1)\n",
    "\n",
    "    plt.plot(history.history['loss'], lw=2.0, color='b', label='train')\n",
    "    plt.plot(history.history['val_loss'], lw=2.0, color='r', label='val')\n",
    "    plt.title(name)\n",
    "    plt.xlabel('Epochs')\n",
    "    plt.ylabel('Loss')\n",
    "    plt.legend(loc='upper right')\n",
    "    plt.figure(2)\n",
    "\n",
    "    plt.plot(history.history['accuracy'], lw=2.0, color='b', label='train')\n",
    "    plt.plot(history.history['val_accuracy'], lw=2.0, color='r', label='val')\n",
    "    plt.title(name)\n",
    "    plt.xlabel('Epochs')\n",
    "    plt.ylabel('Accuracy')\n",
    "    plt.legend(loc='upper left')\n",
    "    plt.show()"
   ]
  },
  {
   "cell_type": "code",
   "execution_count": null,
   "metadata": {
    "id": "CUJm3-MWm9nI"
   },
   "outputs": [],
   "source": [
    "plot_model_perfomance(history,'Glove + BiLSTM')"
   ]
  },
  {
   "cell_type": "code",
   "execution_count": null,
   "metadata": {
    "id": "s5vMNvVtm-4b"
   },
   "outputs": [],
   "source": [
    "# predict values\n",
    "pred = model.predict_proba(test_padded)"
   ]
  },
  {
   "cell_type": "code",
   "execution_count": null,
   "metadata": {
    "id": "ZJEUgRZJnAH3"
   },
   "outputs": [],
   "source": [
    "print(pred)"
   ]
  },
  {
   "cell_type": "code",
   "execution_count": null,
   "metadata": {
    "id": "9h5jMElBnBnv"
   },
   "outputs": [],
   "source": [
    "# submission(더미)\n",
    "sample_submission[['0','1','2','3','4']] = pred\n",
    "sample_submission"
   ]
  },
  {
   "cell_type": "code",
   "execution_count": null,
   "metadata": {
    "id": "s46KT9EVnDL3"
   },
   "outputs": [],
   "source": [
    "#결과 csv 파일로 저장\n",
    "sample_submission.to_csv('submission.csv', index = False)"
   ]
  },
  {
   "cell_type": "code",
   "execution_count": null,
   "metadata": {
    "id": "8WY0nNhunEW0"
   },
   "outputs": [],
   "source": [
    "#텍스트가 총 몇 자인지 확인합니다.\n",
    "print('Length of text: {} characters'.format(len(train_text)))\n",
    "print('Length of text: {} characters'.format(len(test_text)))\n",
    "print()"
   ]
  },
  {
   "cell_type": "code",
   "execution_count": null,
   "metadata": {
    "id": "8DRtaNhvnHS-"
   },
   "outputs": [],
   "source": [
    "#처음 300자를 확인해봅니다(데이터 확인).\n",
    "print(train_text[:300])\n",
    "print(type(train_text))"
   ]
  },
  {
   "cell_type": "code",
   "execution_count": null,
   "metadata": {
    "id": "eaH1rRcJnIgD"
   },
   "outputs": [],
   "source": [
    "#학습을 위한 정답 데이터(Y) 만들기\n",
    "\n",
    "#테스트 데이터에는 정답 데이터가 없음\n",
    "train_Y = np.array([[i] for i in data['author']])\n",
    "\n",
    "#정답데이터(작가에 따라 부여된 0,1,2,3,4) 원-핫 인코딩\n",
    "train_Y = tf.keras.utils.to_categorical(train_Y, 5)  \n",
    "\n",
    "print(train_Y.shape)\n",
    "print(train_Y[:5])"
   ]
  },
  {
   "cell_type": "code",
   "execution_count": null,
   "metadata": {
    "id": "fP0oFvU0nLRk"
   },
   "outputs": [],
   "source": [
    "#부호를 제거해주는 함수\n",
    "def alpha_num(text):\n",
    "    return re.sub(r'[^A-Za-z0-9 ]', '', text)"
   ]
  },
  {
   "cell_type": "code",
   "execution_count": null,
   "metadata": {
    "id": "QRJu_GhQnM3F"
   },
   "outputs": [],
   "source": [
    "# 기본 불용어 사용\n",
    "stopwords = [ \"a\", \"about\", \"above\", \"after\", \"again\", \"against\", \"all\", \"am\", \"an\", \"and\", \"any\", \"are\", \"as\", \n",
    "             \"at\", \"be\", \"because\", \"been\", \"before\", \"being\", \"below\", \"between\", \"both\", \"but\", \"by\", \"could\", \n",
    "             \"did\", \"do\", \"does\", \"doing\", \"down\", \"during\", \"each\", \"few\", \"for\", \"from\", \"further\", \"had\", \"has\", \n",
    "             \"have\", \"having\", \"he\", \"he'd\", \"he'll\", \"he's\", \"her\", \"here\", \"here's\", \"hers\", \"herself\", \"him\", \"himself\", \n",
    "             \"his\", \"how\", \"how's\", \"i\", \"i'd\", \"i'll\", \"i'm\", \"i've\", \"if\", \"in\", \"into\", \"is\", \"it\", \"it's\", \"its\", \"itself\", \n",
    "             \"let's\", \"me\", \"more\", \"most\", \"my\", \"myself\", \"nor\", \"of\", \"on\", \"once\", \"only\", \"or\", \"other\", \"ought\", \"our\", \"ours\", \n",
    "             \"ourselves\", \"out\", \"over\", \"own\", \"same\", \"she\", \"she'd\", \"she'll\", \"she's\", \"should\", \"so\", \"some\", \"such\", \"than\", \"that\", \n",
    "             \"that's\", \"the\", \"their\", \"theirs\", \"them\", \"themselves\", \"then\", \"there\", \"there's\", \"these\", \"they\", \"they'd\", \"they'll\", \n",
    "             \"they're\", \"they've\", \"this\", \"those\", \"through\", \"to\", \"too\", \"under\", \"until\", \"up\", \"very\", \"was\", \"we\", \"we'd\", \"we'll\", \n",
    "             \"we're\", \"we've\", \"were\", \"what\", \"what's\", \"when\", \"when's\", \"where\", \"where's\", \"which\", \"while\", \"who\", \"who's\", \"whom\", \n",
    "             \"why\", \"why's\", \"with\", \"would\", \"you\", \"you'd\", \"you'll\", \"you're\", \"you've\", \"your\", \"yours\", \"yourself\", \"yourselves\" ]"
   ]
  },
  {
   "cell_type": "code",
   "execution_count": null,
   "metadata": {
    "id": "3-0HlaIQnSkK"
   },
   "outputs": [],
   "source": [
    "# 불용어 제거해주는 함수\n",
    "def remove_stopwords(text):\n",
    "    final_text = []\n",
    "    for i in text.split():\n",
    "        if i.strip().lower() not in stopwords:\n",
    "            final_text.append(i.strip())\n",
    "    return \" \".join(final_text)"
   ]
  },
  {
   "cell_type": "code",
   "execution_count": null,
   "metadata": {
    "id": "N48zIOwlnVu7"
   },
   "outputs": [],
   "source": [
    "train_text_X = np.array([[i] for i in train_text['text']])\n",
    "train_text_X = [str(sentence) for sentence in train_text_X]\n",
    "\n",
    "# 문장을 띄어쓰기 단위로 단어 분리\n",
    "sentences = [sentence.split(' ') for sentence in train_text_X]\n",
    "\n",
    "for i in range(5):\n",
    "    print(sentences[i])"
   ]
  },
  {
   "cell_type": "code",
   "execution_count": null,
   "metadata": {
    "id": "4MCdxLRVnXUR"
   },
   "outputs": [],
   "source": [
    "#단어 정제 및 문장 길이 줄이기\n",
    "sentences_new = []\n",
    "\n",
    "for sentence in sentences:\n",
    "\t\t#한 단어에서 5글자까지, 한 문장에서 25단어까지 추출\n",
    "    sentences_new.append([word[:5] for word in sentence][:25])\n",
    "\t\tsentences = sentences_new\n",
    "\n",
    "for i in range(5):\n",
    "    print(sentences[i])"
   ]
  },
  {
   "cell_type": "code",
   "execution_count": null,
   "metadata": {
    "id": "b_2fXqk6nZAH"
   },
   "outputs": [],
   "source": [
    "#Tokenizer과 pad_sequences를 사용한 문장 전처리\n",
    "\n",
    "vocab_size = 20000\n",
    "mbedding_dim = 64\n",
    "max_length = 25\n",
    "padding_type='post'"
   ]
  },
  {
   "cell_type": "code",
   "execution_count": null,
   "metadata": {
    "id": "_SvZkBPena5J"
   },
   "outputs": [],
   "source": [
    "#Tokenizer에 fit(입력)\n",
    "tokenizer = Tokenizer(num_words = vocab_size)\n",
    "tokenizer.fit_on_texts(sentences)\n",
    "word_index = tokenizer.word_index"
   ]
  },
  {
   "cell_type": "code",
   "execution_count": null,
   "metadata": {
    "id": "8u6caIZHncD5"
   },
   "outputs": [],
   "source": [
    "#시퀀스로 잘 변환이 됐나 확인\n",
    "tokenizer.texts_to_sequences(['dkf', 'odin', 'gentl', 'could'])"
   ]
  },
  {
   "cell_type": "code",
   "execution_count": null,
   "metadata": {
    "id": "zoDaBxsPndcu"
   },
   "outputs": [],
   "source": [
    "print(train_X[:5])\n",
    "print(train_X.shape)"
   ]
  },
  {
   "cell_type": "code",
   "execution_count": null,
   "metadata": {
    "id": "i-L7TaGsneux"
   },
   "outputs": [],
   "source": [
    "model = tf.keras.Sequential([\n",
    "    tf.keras.layers.Embedding(vocab_size, embedding_dim, input_length=max_length),\n",
    "    tf.keras.layers.LSTM(units = 50),\n",
    "\n",
    "\t\t#5중 분류이므로 출력값 유닛을 5로 맞추어 준다.\n",
    "    tf.keras.layers.Dense(5, activation = 'softmax')\n",
    "])"
   ]
  },
  {
   "cell_type": "code",
   "execution_count": null,
   "metadata": {
    "id": "WIw69a_3ngaV"
   },
   "outputs": [],
   "source": [
    "#최적화 방법&손실 함수 정의\n",
    "model.compile(optimizer = 'adam', loss = 'categorical_crossentropy', metrics = ['accuracy'])   #sparse_categorical_crossentropy일 때는 로짓과 라벨의 차원 수가 맞지 않다는 에러가 떳는데 그냥 카테고리컬 엔트로피 사용하니 학습이 된다.\n",
    "model.summary()"
   ]
  },
  {
   "cell_type": "code",
   "execution_count": null,
   "metadata": {
    "id": "YCx8pnavnhw-"
   },
   "outputs": [],
   "source": [
    "#감성 분석 모델 학습\n",
    "es = EarlyStopping(monitor='val_loss', min_delta=0.001, patience=3, \n",
    "                   verbose=1, mode='min', baseline=None, restore_best_weights=True)\n",
    "\n",
    "history = model.fit(train_X, train_Y, epochs = 5, \n",
    "                    batch_size = 512, validation_split = 0.2, callbacks = [es])"
   ]
  },
  {
   "cell_type": "code",
   "execution_count": null,
   "metadata": {
    "id": "HpZL0TNLnkcY"
   },
   "outputs": [],
   "source": [
    "#에포크에 따른 loss와 accuracy 변화 그래프\n",
    "def plot_model_perfomance(history,name):\n",
    "    plt.style.use('fivethirtyeight')\n",
    "    plt.figure(1)\n",
    "\n",
    "    plt.plot(history.history['loss'], lw=2.0, color='b', label='train')\n",
    "    plt.plot(history.history['val_loss'], lw=2.0, color='r', label='val')\n",
    "    plt.title(name)\n",
    "    plt.xlabel('Epochs')\n",
    "    plt.ylabel('Loss')\n",
    "    plt.legend(loc='upper right')\n",
    "    plt.figure(2)\n",
    "\n",
    "    plt.plot(history.history['accuracy'], lw=2.0, color='b', label='train')\n",
    "    plt.plot(history.history['val_accuracy'], lw=2.0, color='r', label='val')\n",
    "    plt.title(name)\n",
    "    plt.xlabel('Epochs')\n",
    "    plt.ylabel('Accuracy')\n",
    "    plt.legend(loc='upper left')\n",
    "    plt.show()"
   ]
  },
  {
   "cell_type": "code",
   "execution_count": null,
   "metadata": {
    "id": "sHE3IssLnmuA"
   },
   "outputs": [],
   "source": [
    "plot_model_perfomance(history,'KerasEmbedLayer + LSTM')"
   ]
  },
  {
   "cell_type": "code",
   "execution_count": null,
   "metadata": {
    "id": "0M5yGpUvnoOM"
   },
   "outputs": [],
   "source": [
    "#데이터 읽어오기\n",
    "train_file = 'train.csv'\n",
    "test_file = 'test_x.csv'\n",
    "\n",
    "data = pd.read_csv(train_file, delimiter = ',')\n",
    "tst_data = pd.read_csv(test_file, delimiter = ',')\n",
    "\n",
    "#text열 자료형을 리스트로 전환\n",
    "features = data['text'].tolist()     \n",
    "#features2 = data2['text']\n",
    "\n",
    "labels = data['author'].tolist()\n",
    "X_train = data['text'].values\n",
    "y = data['author'].values"
   ]
  },
  {
   "cell_type": "code",
   "execution_count": null,
   "metadata": {
    "id": "AhHd9QPznqlz"
   },
   "outputs": [],
   "source": [
    "#하이퍼파라미터 설정\n",
    "dropout_prob = 0.5\n",
    "EMB_SIZE = 128\n",
    "EPOCH = 5\n",
    "VOCAB_SIZE = len(features) +1 #전체 단어 수 \n",
    "MAX_SEQ_LEN = 300             #단어 시퀀스 크기\n",
    "\n",
    "print(VOCAB_SIZE)\n",
    "\n",
    "word2vec_model = gensim.models.KeyedVectors.load_word2vec_format(\n",
    "                 'GoogleNews-vectors-negative300.bin.gz', binary=True)"
   ]
  },
  {
   "cell_type": "code",
   "execution_count": null,
   "metadata": {
    "id": "isb9d48vns77"
   },
   "outputs": [],
   "source": [
    "#VOCAB_SIZE(빈도수 바탕으로 정렬된 단어들의 최대 개수(42331개))*300의\n",
    "#표 형태를 지닌 넘파이 N-dimentional 어레이을 만들고 그 안에 전부 0을 집어넣는다.\n",
    "embedding_matrix = np.zeros((VOCAB_SIZE, MAX_SEQ_LEN))   \n",
    "\n",
    "#word2vec model에 있는 단어만 벡터값(word2vec신경망 연산의 결과로 얻어진 출력값) 형태로 반환. 이외는 반환하지 않음\n",
    "def get_vector(word):            \n",
    "    if word in word2vec_model:\n",
    "\t\t\t\t#여기서 임베딩의 가장 핵심인 단어의 벡터화가 이루어진다.\n",
    "\t\t\t\t#word2vec_model['data[text]에 등장하는 단어']는 수(float32)로 이루어진\n",
    "\t\t\t\t#리스트의 형태를 띤다.\n",
    "        return word2vec_model[word]         \n",
    "    else:\n",
    "        return None\n",
    "\n",
    "vocab = nltk.FreqDist(np.hstack(data['text']))\n",
    "\n",
    "print(vocab[5232])"
   ]
  },
  {
   "cell_type": "code",
   "execution_count": null,
   "metadata": {
    "id": "f2HXtQXlnu8F"
   },
   "outputs": [],
   "source": [
    "#임베딩 정의\n",
    "input_layer = Input(shape= (MAX_SEQ_LEN,))   \n",
    "embedding_layer = Embedding(VOCAB_SIZE, 300, weights=[embedding_matrix],\n",
    "\t\t\t\t\t\t\t\t\tinput_length=MAX_SEQ_LEN)(input_layer)   #임베딩\n",
    "\n",
    "dropout_emb = Dropout(rate=dropout_prob)(embedding_layer)\n",
    "\n",
    "#특징 추출 모델 정의\n",
    "conv1 = Conv1D(filters = 128, kernel_size = 7, padding = 'valid',\n",
    "\t\t\t\t\t\t\t activation = tf.nn.relu)(dropout_emb)\n",
    "pool1 = GlobalMaxPool1D()(conv1)\n",
    "\n",
    "conv2 = Conv1D(filters = 128, kernel_size = 7, padding = 'valid',\n",
    "\t\t\t\tactivation = tf.nn.relu)(dropout_emb)\n",
    "pool2 = GlobalMaxPool1D()(conv2)\n",
    "\n",
    "conv3 = Conv1D(filters = 128, kernel_size = 5, padding = 'valid',\n",
    "\t\t\t\tactivation = tf.nn.relu)(dropout_emb)\n",
    "pool3 = GlobalMaxPool1D()(conv3)"
   ]
  },
  {
   "cell_type": "code",
   "execution_count": null,
   "metadata": {
    "id": "FnUgiHRMnwmz"
   },
   "outputs": [],
   "source": [
    "#3,4,5-gram 이후 합치기(특징추출단계 끝단) 및 분류 모델\n",
    "\n",
    "concat = concatenate([pool1, pool2, pool3])\n",
    "hidden = Dense(128, activation = tf.nn.relu)(concat)\n",
    "dropout_hidden = Dropout(rate = dropout_prob)(hidden)\n",
    "logits = Dense(3, name = 'logits')(dropout_hidden)\n",
    "predictions = Dense(5, activation = tf.nn.softmax)(logits)"
   ]
  },
  {
   "cell_type": "code",
   "execution_count": null,
   "metadata": {
    "id": "ytPJHRmWnziR"
   },
   "outputs": [],
   "source": [
    "model = Model(inputs = input_layer, outputs = predictions)\n",
    "model.compile(optimizer = 'adam', loss = 'categorical_crossentropy', metrics = ['accuracy'])\n",
    "model.summary()"
   ]
  },
  {
   "cell_type": "code",
   "execution_count": null,
   "metadata": {
    "id": "dM0fy5tHn1db"
   },
   "outputs": [],
   "source": [
    "# n_splits에는 n_fold값인 5, random_state에는 seed값인 42\n",
    "cv = StratifiedKFold(n_splits=5, shuffle=True, random_state=42)\n",
    "\n",
    "es = EarlyStopping(monitor='val_loss', min_delta=0.001, patience=3,\n",
    "                       verbose=1, mode='min', baseline=None, restore_best_weights=True)\n",
    "\n",
    "history = model.fit(trn, to_categorical(y), validation_split=0.2, epochs=5, batch_size=512, callbacks=[es])"
   ]
  },
  {
   "cell_type": "code",
   "execution_count": null,
   "metadata": {
    "id": "DSkvJlQ9n38h"
   },
   "outputs": [],
   "source": [
    "#에포크에 따른 loss와 accuracy 변화 그래프\n",
    "def plot_model_perfomance(history,name):\n",
    "    plt.style.use('fivethirtyeight')\n",
    "    plt.figure(1)\n",
    "\n",
    "    plt.plot(history.history['loss'], lw=2.0, color='b', label='train')\n",
    "    plt.plot(history.history['val_loss'], lw=2.0, color='r', label='val')\n",
    "    plt.title(name)\n",
    "    plt.xlabel('Epochs')\n",
    "    plt.ylabel('Loss')\n",
    "    plt.legend(loc='upper right')\n",
    "    plt.figure(2)\n",
    "\n",
    "    plt.plot(history.history['accuracy'], lw=2.0, color='b', label='train')\n",
    "    plt.plot(history.history['val_accuracy'], lw=2.0, color='r', label='val')\n",
    "    plt.title(name)\n",
    "    plt.xlabel('Epochs')\n",
    "    plt.ylabel('Accuracy')\n",
    "    plt.legend(loc='upper left')\n",
    "    plt.show()"
   ]
  },
  {
   "cell_type": "code",
   "execution_count": null,
   "metadata": {
    "id": "LUw1_ap_n6Ec"
   },
   "outputs": [],
   "source": [
    "plot_model_perfomance(history,'Word2Vec + CNN')"
   ]
  },
  {
   "cell_type": "code",
   "execution_count": null,
   "metadata": {
    "id": "6d3PlUOAn7jb"
   },
   "outputs": [],
   "source": []
  },
  {
   "cell_type": "code",
   "execution_count": null,
   "metadata": {},
   "outputs": [],
   "source": []
  },
  {
   "cell_type": "code",
   "execution_count": null,
   "metadata": {},
   "outputs": [],
   "source": []
  }
 ],
 "metadata": {
  "colab": {
   "authorship_tag": "ABX9TyPS3i7FvKsXFhXGmflqxn5l",
   "name": "소설 작가 분류 AI 경진대회(N3조).ipynb",
   "provenance": []
  },
  "kernelspec": {
   "display_name": "Python 3",
   "language": "python",
   "name": "python3"
  },
  "language_info": {
   "codemirror_mode": {
    "name": "ipython",
    "version": 3
   },
   "file_extension": ".py",
   "mimetype": "text/x-python",
   "name": "python",
   "nbconvert_exporter": "python",
   "pygments_lexer": "ipython3",
   "version": "3.8.3"
  }
 },
 "nbformat": 4,
 "nbformat_minor": 4
}
